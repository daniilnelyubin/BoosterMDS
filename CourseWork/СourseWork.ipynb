{
 "cells": [
  {
   "cell_type": "code",
   "execution_count": 1,
   "metadata": {},
   "outputs": [],
   "source": [
    "import pandas as pd\n",
    "import numpy as np\n",
    "from sklearn.pipeline import Pipeline\n",
    "from sklearn.preprocessing import LabelEncoder\n",
    "from sklearn.model_selection import train_test_split,GridSearchCV \n",
    "import re\n",
    "import seaborn as sns\n",
    "from sklearn.ensemble import RandomForestClassifier\n",
    "from sklearn.metrics import accuracy_score,make_scorer\n",
    "import xgboost as xgb"
   ]
  },
  {
   "cell_type": "code",
   "execution_count": 2,
   "metadata": {},
   "outputs": [],
   "source": [
    "df_train = pd.read_csv(\"train.csv\")\n",
    "df_validation = pd.read_csv(\"test.csv\")\n",
    "# df_validation = df_validation.set_index(\"PassengerId\")"
   ]
  },
  {
   "cell_type": "code",
   "execution_count": 3,
   "metadata": {},
   "outputs": [],
   "source": [
    "df_train.drop([\"PassengerId\"],axis=1,inplace=True)\n",
    "df_train['Number_of_relatives'] = df_train.SibSp+df_train.Parch\n",
    "df_train.drop(['SibSp','Parch'],axis=1,inplace=True)\n",
    "\n",
    "df_validation.drop([\"PassengerId\"],axis=1,inplace=True)\n",
    "df_validation['Number_of_relatives'] = df_validation.SibSp+df_validation.Parch\n",
    "df_validation.drop(['SibSp','Parch'],axis=1,inplace=True)\n"
   ]
  },
  {
   "cell_type": "code",
   "execution_count": 4,
   "metadata": {},
   "outputs": [
    {
     "data": {
      "text/plain": [
       "(891, 10)"
      ]
     },
     "execution_count": 4,
     "metadata": {},
     "output_type": "execute_result"
    }
   ],
   "source": [
    "df_train.shape"
   ]
  },
  {
   "cell_type": "code",
   "execution_count": 5,
   "metadata": {},
   "outputs": [
    {
     "data": {
      "text/html": [
       "<div>\n",
       "<style scoped>\n",
       "    .dataframe tbody tr th:only-of-type {\n",
       "        vertical-align: middle;\n",
       "    }\n",
       "\n",
       "    .dataframe tbody tr th {\n",
       "        vertical-align: top;\n",
       "    }\n",
       "\n",
       "    .dataframe thead th {\n",
       "        text-align: right;\n",
       "    }\n",
       "</style>\n",
       "<table border=\"1\" class=\"dataframe\">\n",
       "  <thead>\n",
       "    <tr style=\"text-align: right;\">\n",
       "      <th></th>\n",
       "      <th>Survived</th>\n",
       "      <th>Pclass</th>\n",
       "      <th>Name</th>\n",
       "      <th>Sex</th>\n",
       "      <th>Age</th>\n",
       "      <th>Ticket</th>\n",
       "      <th>Fare</th>\n",
       "      <th>Cabin</th>\n",
       "      <th>Embarked</th>\n",
       "      <th>Number_of_relatives</th>\n",
       "    </tr>\n",
       "  </thead>\n",
       "  <tbody>\n",
       "    <tr>\n",
       "      <th>0</th>\n",
       "      <td>0</td>\n",
       "      <td>3</td>\n",
       "      <td>Braund, Mr. Owen Harris</td>\n",
       "      <td>male</td>\n",
       "      <td>22.0</td>\n",
       "      <td>A/5 21171</td>\n",
       "      <td>7.2500</td>\n",
       "      <td>NaN</td>\n",
       "      <td>S</td>\n",
       "      <td>1</td>\n",
       "    </tr>\n",
       "    <tr>\n",
       "      <th>1</th>\n",
       "      <td>1</td>\n",
       "      <td>1</td>\n",
       "      <td>Cumings, Mrs. John Bradley (Florence Briggs Th...</td>\n",
       "      <td>female</td>\n",
       "      <td>38.0</td>\n",
       "      <td>PC 17599</td>\n",
       "      <td>71.2833</td>\n",
       "      <td>C85</td>\n",
       "      <td>C</td>\n",
       "      <td>1</td>\n",
       "    </tr>\n",
       "    <tr>\n",
       "      <th>2</th>\n",
       "      <td>1</td>\n",
       "      <td>3</td>\n",
       "      <td>Heikkinen, Miss. Laina</td>\n",
       "      <td>female</td>\n",
       "      <td>26.0</td>\n",
       "      <td>STON/O2. 3101282</td>\n",
       "      <td>7.9250</td>\n",
       "      <td>NaN</td>\n",
       "      <td>S</td>\n",
       "      <td>0</td>\n",
       "    </tr>\n",
       "    <tr>\n",
       "      <th>3</th>\n",
       "      <td>1</td>\n",
       "      <td>1</td>\n",
       "      <td>Futrelle, Mrs. Jacques Heath (Lily May Peel)</td>\n",
       "      <td>female</td>\n",
       "      <td>35.0</td>\n",
       "      <td>113803</td>\n",
       "      <td>53.1000</td>\n",
       "      <td>C123</td>\n",
       "      <td>S</td>\n",
       "      <td>1</td>\n",
       "    </tr>\n",
       "    <tr>\n",
       "      <th>4</th>\n",
       "      <td>0</td>\n",
       "      <td>3</td>\n",
       "      <td>Allen, Mr. William Henry</td>\n",
       "      <td>male</td>\n",
       "      <td>35.0</td>\n",
       "      <td>373450</td>\n",
       "      <td>8.0500</td>\n",
       "      <td>NaN</td>\n",
       "      <td>S</td>\n",
       "      <td>0</td>\n",
       "    </tr>\n",
       "  </tbody>\n",
       "</table>\n",
       "</div>"
      ],
      "text/plain": [
       "   Survived  Pclass                                               Name  \\\n",
       "0         0       3                            Braund, Mr. Owen Harris   \n",
       "1         1       1  Cumings, Mrs. John Bradley (Florence Briggs Th...   \n",
       "2         1       3                             Heikkinen, Miss. Laina   \n",
       "3         1       1       Futrelle, Mrs. Jacques Heath (Lily May Peel)   \n",
       "4         0       3                           Allen, Mr. William Henry   \n",
       "\n",
       "      Sex   Age            Ticket     Fare Cabin Embarked  Number_of_relatives  \n",
       "0    male  22.0         A/5 21171   7.2500   NaN        S                    1  \n",
       "1  female  38.0          PC 17599  71.2833   C85        C                    1  \n",
       "2  female  26.0  STON/O2. 3101282   7.9250   NaN        S                    0  \n",
       "3  female  35.0            113803  53.1000  C123        S                    1  \n",
       "4    male  35.0            373450   8.0500   NaN        S                    0  "
      ]
     },
     "execution_count": 5,
     "metadata": {},
     "output_type": "execute_result"
    }
   ],
   "source": [
    "df_train.head()"
   ]
  },
  {
   "cell_type": "code",
   "execution_count": 6,
   "metadata": {},
   "outputs": [
    {
     "data": {
      "text/html": [
       "<div>\n",
       "<style scoped>\n",
       "    .dataframe tbody tr th:only-of-type {\n",
       "        vertical-align: middle;\n",
       "    }\n",
       "\n",
       "    .dataframe tbody tr th {\n",
       "        vertical-align: top;\n",
       "    }\n",
       "\n",
       "    .dataframe thead th {\n",
       "        text-align: right;\n",
       "    }\n",
       "</style>\n",
       "<table border=\"1\" class=\"dataframe\">\n",
       "  <thead>\n",
       "    <tr style=\"text-align: right;\">\n",
       "      <th></th>\n",
       "      <th>Survived</th>\n",
       "      <th>Pclass</th>\n",
       "      <th>Age</th>\n",
       "      <th>Fare</th>\n",
       "      <th>Number_of_relatives</th>\n",
       "    </tr>\n",
       "  </thead>\n",
       "  <tbody>\n",
       "    <tr>\n",
       "      <th>Survived</th>\n",
       "      <td>1.000000</td>\n",
       "      <td>-0.338481</td>\n",
       "      <td>-0.077221</td>\n",
       "      <td>0.257307</td>\n",
       "      <td>0.016639</td>\n",
       "    </tr>\n",
       "    <tr>\n",
       "      <th>Pclass</th>\n",
       "      <td>-0.338481</td>\n",
       "      <td>1.000000</td>\n",
       "      <td>-0.369226</td>\n",
       "      <td>-0.549500</td>\n",
       "      <td>0.065997</td>\n",
       "    </tr>\n",
       "    <tr>\n",
       "      <th>Age</th>\n",
       "      <td>-0.077221</td>\n",
       "      <td>-0.369226</td>\n",
       "      <td>1.000000</td>\n",
       "      <td>0.096067</td>\n",
       "      <td>-0.301914</td>\n",
       "    </tr>\n",
       "    <tr>\n",
       "      <th>Fare</th>\n",
       "      <td>0.257307</td>\n",
       "      <td>-0.549500</td>\n",
       "      <td>0.096067</td>\n",
       "      <td>1.000000</td>\n",
       "      <td>0.217138</td>\n",
       "    </tr>\n",
       "    <tr>\n",
       "      <th>Number_of_relatives</th>\n",
       "      <td>0.016639</td>\n",
       "      <td>0.065997</td>\n",
       "      <td>-0.301914</td>\n",
       "      <td>0.217138</td>\n",
       "      <td>1.000000</td>\n",
       "    </tr>\n",
       "  </tbody>\n",
       "</table>\n",
       "</div>"
      ],
      "text/plain": [
       "                     Survived    Pclass       Age      Fare  \\\n",
       "Survived             1.000000 -0.338481 -0.077221  0.257307   \n",
       "Pclass              -0.338481  1.000000 -0.369226 -0.549500   \n",
       "Age                 -0.077221 -0.369226  1.000000  0.096067   \n",
       "Fare                 0.257307 -0.549500  0.096067  1.000000   \n",
       "Number_of_relatives  0.016639  0.065997 -0.301914  0.217138   \n",
       "\n",
       "                     Number_of_relatives  \n",
       "Survived                        0.016639  \n",
       "Pclass                          0.065997  \n",
       "Age                            -0.301914  \n",
       "Fare                            0.217138  \n",
       "Number_of_relatives             1.000000  "
      ]
     },
     "execution_count": 6,
     "metadata": {},
     "output_type": "execute_result"
    }
   ],
   "source": [
    "df_train.corr()"
   ]
  },
  {
   "cell_type": "code",
   "execution_count": 7,
   "metadata": {},
   "outputs": [],
   "source": [
    "for sample in [df_train,df_validation]:\n",
    "    sample['Sex'] = [1 if i =='male' else 0 for i in sample.Sex]"
   ]
  },
  {
   "cell_type": "code",
   "execution_count": 8,
   "metadata": {},
   "outputs": [
    {
     "data": {
      "text/plain": [
       "0.7710437710437711"
      ]
     },
     "execution_count": 8,
     "metadata": {},
     "output_type": "execute_result"
    }
   ],
   "source": [
    "len(df_train[df_train['Cabin'].isna()==True])/len(df_train) "
   ]
  },
  {
   "cell_type": "code",
   "execution_count": 9,
   "metadata": {},
   "outputs": [],
   "source": [
    "for sample in [df_train,df_validation]:\n",
    "    sample['Has_cabin'] = [0 if cabin is np.NaN else 1 for cabin in sample.Cabin]\n",
    "    sample.drop(\"Cabin\",axis=1,inplace=True)"
   ]
  },
  {
   "cell_type": "code",
   "execution_count": 10,
   "metadata": {},
   "outputs": [],
   "source": [
    "\n",
    "df_train['Embarked'].fillna('S',inplace=True)\n",
    "df_validation['Embarked'].fillna('S',inplace=True)"
   ]
  },
  {
   "cell_type": "code",
   "execution_count": null,
   "metadata": {},
   "outputs": [],
   "source": []
  },
  {
   "cell_type": "code",
   "execution_count": 11,
   "metadata": {},
   "outputs": [],
   "source": [
    "le =  LabelEncoder()\n",
    "df_train.Embarked = le.fit_transform(df_train.Embarked)\n",
    "df_validation.Embarked = le.transform(df_validation.Embarked)"
   ]
  },
  {
   "cell_type": "code",
   "execution_count": 12,
   "metadata": {},
   "outputs": [
    {
     "data": {
      "text/html": [
       "<div>\n",
       "<style scoped>\n",
       "    .dataframe tbody tr th:only-of-type {\n",
       "        vertical-align: middle;\n",
       "    }\n",
       "\n",
       "    .dataframe tbody tr th {\n",
       "        vertical-align: top;\n",
       "    }\n",
       "\n",
       "    .dataframe thead th {\n",
       "        text-align: right;\n",
       "    }\n",
       "</style>\n",
       "<table border=\"1\" class=\"dataframe\">\n",
       "  <thead>\n",
       "    <tr style=\"text-align: right;\">\n",
       "      <th></th>\n",
       "      <th>Survived</th>\n",
       "      <th>Pclass</th>\n",
       "      <th>Sex</th>\n",
       "      <th>Age</th>\n",
       "      <th>Fare</th>\n",
       "      <th>Embarked</th>\n",
       "      <th>Number_of_relatives</th>\n",
       "      <th>Has_cabin</th>\n",
       "    </tr>\n",
       "  </thead>\n",
       "  <tbody>\n",
       "    <tr>\n",
       "      <th>Survived</th>\n",
       "      <td>1.000000</td>\n",
       "      <td>-0.338481</td>\n",
       "      <td>-0.543351</td>\n",
       "      <td>-0.077221</td>\n",
       "      <td>0.257307</td>\n",
       "      <td>-0.167675</td>\n",
       "      <td>0.016639</td>\n",
       "      <td>0.316912</td>\n",
       "    </tr>\n",
       "    <tr>\n",
       "      <th>Pclass</th>\n",
       "      <td>-0.338481</td>\n",
       "      <td>1.000000</td>\n",
       "      <td>0.131900</td>\n",
       "      <td>-0.369226</td>\n",
       "      <td>-0.549500</td>\n",
       "      <td>0.162098</td>\n",
       "      <td>0.065997</td>\n",
       "      <td>-0.725541</td>\n",
       "    </tr>\n",
       "    <tr>\n",
       "      <th>Sex</th>\n",
       "      <td>-0.543351</td>\n",
       "      <td>0.131900</td>\n",
       "      <td>1.000000</td>\n",
       "      <td>0.093254</td>\n",
       "      <td>-0.182333</td>\n",
       "      <td>0.108262</td>\n",
       "      <td>-0.200988</td>\n",
       "      <td>-0.140391</td>\n",
       "    </tr>\n",
       "    <tr>\n",
       "      <th>Age</th>\n",
       "      <td>-0.077221</td>\n",
       "      <td>-0.369226</td>\n",
       "      <td>0.093254</td>\n",
       "      <td>1.000000</td>\n",
       "      <td>0.096067</td>\n",
       "      <td>-0.030394</td>\n",
       "      <td>-0.301914</td>\n",
       "      <td>0.249732</td>\n",
       "    </tr>\n",
       "    <tr>\n",
       "      <th>Fare</th>\n",
       "      <td>0.257307</td>\n",
       "      <td>-0.549500</td>\n",
       "      <td>-0.182333</td>\n",
       "      <td>0.096067</td>\n",
       "      <td>1.000000</td>\n",
       "      <td>-0.224719</td>\n",
       "      <td>0.217138</td>\n",
       "      <td>0.482075</td>\n",
       "    </tr>\n",
       "    <tr>\n",
       "      <th>Embarked</th>\n",
       "      <td>-0.167675</td>\n",
       "      <td>0.162098</td>\n",
       "      <td>0.108262</td>\n",
       "      <td>-0.030394</td>\n",
       "      <td>-0.224719</td>\n",
       "      <td>1.000000</td>\n",
       "      <td>0.066516</td>\n",
       "      <td>-0.160196</td>\n",
       "    </tr>\n",
       "    <tr>\n",
       "      <th>Number_of_relatives</th>\n",
       "      <td>0.016639</td>\n",
       "      <td>0.065997</td>\n",
       "      <td>-0.200988</td>\n",
       "      <td>-0.301914</td>\n",
       "      <td>0.217138</td>\n",
       "      <td>0.066516</td>\n",
       "      <td>1.000000</td>\n",
       "      <td>-0.009175</td>\n",
       "    </tr>\n",
       "    <tr>\n",
       "      <th>Has_cabin</th>\n",
       "      <td>0.316912</td>\n",
       "      <td>-0.725541</td>\n",
       "      <td>-0.140391</td>\n",
       "      <td>0.249732</td>\n",
       "      <td>0.482075</td>\n",
       "      <td>-0.160196</td>\n",
       "      <td>-0.009175</td>\n",
       "      <td>1.000000</td>\n",
       "    </tr>\n",
       "  </tbody>\n",
       "</table>\n",
       "</div>"
      ],
      "text/plain": [
       "                     Survived    Pclass       Sex       Age      Fare  \\\n",
       "Survived             1.000000 -0.338481 -0.543351 -0.077221  0.257307   \n",
       "Pclass              -0.338481  1.000000  0.131900 -0.369226 -0.549500   \n",
       "Sex                 -0.543351  0.131900  1.000000  0.093254 -0.182333   \n",
       "Age                 -0.077221 -0.369226  0.093254  1.000000  0.096067   \n",
       "Fare                 0.257307 -0.549500 -0.182333  0.096067  1.000000   \n",
       "Embarked            -0.167675  0.162098  0.108262 -0.030394 -0.224719   \n",
       "Number_of_relatives  0.016639  0.065997 -0.200988 -0.301914  0.217138   \n",
       "Has_cabin            0.316912 -0.725541 -0.140391  0.249732  0.482075   \n",
       "\n",
       "                     Embarked  Number_of_relatives  Has_cabin  \n",
       "Survived            -0.167675             0.016639   0.316912  \n",
       "Pclass               0.162098             0.065997  -0.725541  \n",
       "Sex                  0.108262            -0.200988  -0.140391  \n",
       "Age                 -0.030394            -0.301914   0.249732  \n",
       "Fare                -0.224719             0.217138   0.482075  \n",
       "Embarked             1.000000             0.066516  -0.160196  \n",
       "Number_of_relatives  0.066516             1.000000  -0.009175  \n",
       "Has_cabin           -0.160196            -0.009175   1.000000  "
      ]
     },
     "execution_count": 12,
     "metadata": {},
     "output_type": "execute_result"
    }
   ],
   "source": [
    "df_train.corr()"
   ]
  },
  {
   "cell_type": "code",
   "execution_count": 13,
   "metadata": {},
   "outputs": [],
   "source": [
    "for sample in [df_train,df_validation]:\n",
    "    sample['Ticket']=  sample['Ticket'].apply(lambda x: np.int64(re.search('\\d{2,}',x)[0]) if len(re.findall('\\d{2,}',x))>0 else 1)\n",
    "    "
   ]
  },
  {
   "cell_type": "code",
   "execution_count": 14,
   "metadata": {},
   "outputs": [
    {
     "data": {
      "text/html": [
       "<div>\n",
       "<style scoped>\n",
       "    .dataframe tbody tr th:only-of-type {\n",
       "        vertical-align: middle;\n",
       "    }\n",
       "\n",
       "    .dataframe tbody tr th {\n",
       "        vertical-align: top;\n",
       "    }\n",
       "\n",
       "    .dataframe thead th {\n",
       "        text-align: right;\n",
       "    }\n",
       "</style>\n",
       "<table border=\"1\" class=\"dataframe\">\n",
       "  <thead>\n",
       "    <tr style=\"text-align: right;\">\n",
       "      <th></th>\n",
       "      <th>Survived</th>\n",
       "      <th>Pclass</th>\n",
       "      <th>Sex</th>\n",
       "      <th>Age</th>\n",
       "      <th>Ticket</th>\n",
       "      <th>Fare</th>\n",
       "      <th>Embarked</th>\n",
       "      <th>Number_of_relatives</th>\n",
       "      <th>Has_cabin</th>\n",
       "    </tr>\n",
       "  </thead>\n",
       "  <tbody>\n",
       "    <tr>\n",
       "      <th>Survived</th>\n",
       "      <td>1.000000</td>\n",
       "      <td>-0.338481</td>\n",
       "      <td>-0.543351</td>\n",
       "      <td>-0.077221</td>\n",
       "      <td>-0.095605</td>\n",
       "      <td>0.257307</td>\n",
       "      <td>-0.167675</td>\n",
       "      <td>0.016639</td>\n",
       "      <td>0.316912</td>\n",
       "    </tr>\n",
       "    <tr>\n",
       "      <th>Pclass</th>\n",
       "      <td>-0.338481</td>\n",
       "      <td>1.000000</td>\n",
       "      <td>0.131900</td>\n",
       "      <td>-0.369226</td>\n",
       "      <td>0.284016</td>\n",
       "      <td>-0.549500</td>\n",
       "      <td>0.162098</td>\n",
       "      <td>0.065997</td>\n",
       "      <td>-0.725541</td>\n",
       "    </tr>\n",
       "    <tr>\n",
       "      <th>Sex</th>\n",
       "      <td>-0.543351</td>\n",
       "      <td>0.131900</td>\n",
       "      <td>1.000000</td>\n",
       "      <td>0.093254</td>\n",
       "      <td>0.075693</td>\n",
       "      <td>-0.182333</td>\n",
       "      <td>0.108262</td>\n",
       "      <td>-0.200988</td>\n",
       "      <td>-0.140391</td>\n",
       "    </tr>\n",
       "    <tr>\n",
       "      <th>Age</th>\n",
       "      <td>-0.077221</td>\n",
       "      <td>-0.369226</td>\n",
       "      <td>0.093254</td>\n",
       "      <td>1.000000</td>\n",
       "      <td>-0.107355</td>\n",
       "      <td>0.096067</td>\n",
       "      <td>-0.030394</td>\n",
       "      <td>-0.301914</td>\n",
       "      <td>0.249732</td>\n",
       "    </tr>\n",
       "    <tr>\n",
       "      <th>Ticket</th>\n",
       "      <td>-0.095605</td>\n",
       "      <td>0.284016</td>\n",
       "      <td>0.075693</td>\n",
       "      <td>-0.107355</td>\n",
       "      <td>1.000000</td>\n",
       "      <td>-0.155371</td>\n",
       "      <td>0.192306</td>\n",
       "      <td>0.015832</td>\n",
       "      <td>-0.190612</td>\n",
       "    </tr>\n",
       "    <tr>\n",
       "      <th>Fare</th>\n",
       "      <td>0.257307</td>\n",
       "      <td>-0.549500</td>\n",
       "      <td>-0.182333</td>\n",
       "      <td>0.096067</td>\n",
       "      <td>-0.155371</td>\n",
       "      <td>1.000000</td>\n",
       "      <td>-0.224719</td>\n",
       "      <td>0.217138</td>\n",
       "      <td>0.482075</td>\n",
       "    </tr>\n",
       "    <tr>\n",
       "      <th>Embarked</th>\n",
       "      <td>-0.167675</td>\n",
       "      <td>0.162098</td>\n",
       "      <td>0.108262</td>\n",
       "      <td>-0.030394</td>\n",
       "      <td>0.192306</td>\n",
       "      <td>-0.224719</td>\n",
       "      <td>1.000000</td>\n",
       "      <td>0.066516</td>\n",
       "      <td>-0.160196</td>\n",
       "    </tr>\n",
       "    <tr>\n",
       "      <th>Number_of_relatives</th>\n",
       "      <td>0.016639</td>\n",
       "      <td>0.065997</td>\n",
       "      <td>-0.200988</td>\n",
       "      <td>-0.301914</td>\n",
       "      <td>0.015832</td>\n",
       "      <td>0.217138</td>\n",
       "      <td>0.066516</td>\n",
       "      <td>1.000000</td>\n",
       "      <td>-0.009175</td>\n",
       "    </tr>\n",
       "    <tr>\n",
       "      <th>Has_cabin</th>\n",
       "      <td>0.316912</td>\n",
       "      <td>-0.725541</td>\n",
       "      <td>-0.140391</td>\n",
       "      <td>0.249732</td>\n",
       "      <td>-0.190612</td>\n",
       "      <td>0.482075</td>\n",
       "      <td>-0.160196</td>\n",
       "      <td>-0.009175</td>\n",
       "      <td>1.000000</td>\n",
       "    </tr>\n",
       "  </tbody>\n",
       "</table>\n",
       "</div>"
      ],
      "text/plain": [
       "                     Survived    Pclass       Sex       Age    Ticket  \\\n",
       "Survived             1.000000 -0.338481 -0.543351 -0.077221 -0.095605   \n",
       "Pclass              -0.338481  1.000000  0.131900 -0.369226  0.284016   \n",
       "Sex                 -0.543351  0.131900  1.000000  0.093254  0.075693   \n",
       "Age                 -0.077221 -0.369226  0.093254  1.000000 -0.107355   \n",
       "Ticket              -0.095605  0.284016  0.075693 -0.107355  1.000000   \n",
       "Fare                 0.257307 -0.549500 -0.182333  0.096067 -0.155371   \n",
       "Embarked            -0.167675  0.162098  0.108262 -0.030394  0.192306   \n",
       "Number_of_relatives  0.016639  0.065997 -0.200988 -0.301914  0.015832   \n",
       "Has_cabin            0.316912 -0.725541 -0.140391  0.249732 -0.190612   \n",
       "\n",
       "                         Fare  Embarked  Number_of_relatives  Has_cabin  \n",
       "Survived             0.257307 -0.167675             0.016639   0.316912  \n",
       "Pclass              -0.549500  0.162098             0.065997  -0.725541  \n",
       "Sex                 -0.182333  0.108262            -0.200988  -0.140391  \n",
       "Age                  0.096067 -0.030394            -0.301914   0.249732  \n",
       "Ticket              -0.155371  0.192306             0.015832  -0.190612  \n",
       "Fare                 1.000000 -0.224719             0.217138   0.482075  \n",
       "Embarked            -0.224719  1.000000             0.066516  -0.160196  \n",
       "Number_of_relatives  0.217138  0.066516             1.000000  -0.009175  \n",
       "Has_cabin            0.482075 -0.160196            -0.009175   1.000000  "
      ]
     },
     "execution_count": 14,
     "metadata": {},
     "output_type": "execute_result"
    }
   ],
   "source": [
    "df_train.corr()"
   ]
  },
  {
   "cell_type": "code",
   "execution_count": 15,
   "metadata": {},
   "outputs": [],
   "source": [
    "\n",
    "for sample in [df_train,df_validation]:\n",
    "    sample['title'] = sample['Name'].str.extract(' ([A-Za-z]+)\\.', expand=False)\n"
   ]
  },
  {
   "cell_type": "code",
   "execution_count": 16,
   "metadata": {},
   "outputs": [
    {
     "data": {
      "text/plain": [
       "<matplotlib.axes._subplots.AxesSubplot at 0x7f546d8fe278>"
      ]
     },
     "execution_count": 16,
     "metadata": {},
     "output_type": "execute_result"
    },
    {
     "data": {
      "image/png": "[encoded data removed]",
      "text/plain": [
       "<Figure size 432x288 with 1 Axes>"
      ]
     },
     "metadata": {
      "needs_background": "light"
     },
     "output_type": "display_data"
    }
   ],
   "source": [
    "sns.lineplot(y=df_train.groupby(df_train.index // 100).sum().sort_values(by='Ticket')['Survived'],x=df_train.groupby(df_train.index // 100).sum().sort_values(by='Ticket')['Ticket'])"
   ]
  },
  {
   "cell_type": "code",
   "execution_count": 17,
   "metadata": {},
   "outputs": [],
   "source": [
    "for sample in [df_train,df_validation]:\n",
    "    sample['title'] = sample['Name'].str.extract(' ([A-Za-z]+)\\.', expand=False)\n",
    "\n",
    "for dataset in [df_train,df_validation]:\n",
    "    dataset['title'] = dataset['title'].replace(['Lady', 'Countess','Capt', 'Col',\\\n",
    "    'Don', 'Dr', 'Major', 'Rev', 'Sir', 'Jonkheer', 'Dona'], 'Rare')\n",
    "\n",
    "    dataset['title'] = dataset['title'].replace('Mlle', 'Miss')\n",
    "    dataset['title'] = dataset['title'].replace('Ms', 'Miss')\n",
    "    dataset['title'] = dataset['title'].replace('Mme', 'Mrs')"
   ]
  },
  {
   "cell_type": "code",
   "execution_count": null,
   "metadata": {},
   "outputs": [],
   "source": [
    "\n",
    "    "
   ]
  },
  {
   "cell_type": "code",
   "execution_count": 18,
   "metadata": {},
   "outputs": [],
   "source": [
    "for sample in [df_train,df_validation]:\n",
    "    sample['Age'] = sample['Age'].fillna(sample['Age'].mean())\n",
    "    sample['Fare'] = sample['Age'].fillna(sample['Fare'].mean())"
   ]
  },
  {
   "cell_type": "code",
   "execution_count": 19,
   "metadata": {},
   "outputs": [],
   "source": [
    "le_title = LabelEncoder()\n",
    "df_train.title = le_title.fit_transform(df_train.title)\n",
    "df_validation.title = le_title.transform(df_validation.title)"
   ]
  },
  {
   "cell_type": "code",
   "execution_count": 20,
   "metadata": {},
   "outputs": [
    {
     "data": {
      "text/html": [
       "<div>\n",
       "<style scoped>\n",
       "    .dataframe tbody tr th:only-of-type {\n",
       "        vertical-align: middle;\n",
       "    }\n",
       "\n",
       "    .dataframe tbody tr th {\n",
       "        vertical-align: top;\n",
       "    }\n",
       "\n",
       "    .dataframe thead th {\n",
       "        text-align: right;\n",
       "    }\n",
       "</style>\n",
       "<table border=\"1\" class=\"dataframe\">\n",
       "  <thead>\n",
       "    <tr style=\"text-align: right;\">\n",
       "      <th></th>\n",
       "      <th>Survived</th>\n",
       "      <th>Pclass</th>\n",
       "      <th>Name</th>\n",
       "      <th>Sex</th>\n",
       "      <th>Age</th>\n",
       "      <th>Ticket</th>\n",
       "      <th>Fare</th>\n",
       "      <th>Embarked</th>\n",
       "      <th>Number_of_relatives</th>\n",
       "      <th>Has_cabin</th>\n",
       "      <th>title</th>\n",
       "    </tr>\n",
       "  </thead>\n",
       "  <tbody>\n",
       "    <tr>\n",
       "      <th>0</th>\n",
       "      <td>0</td>\n",
       "      <td>3</td>\n",
       "      <td>Braund, Mr. Owen Harris</td>\n",
       "      <td>1</td>\n",
       "      <td>22.0</td>\n",
       "      <td>21171</td>\n",
       "      <td>22.0</td>\n",
       "      <td>2</td>\n",
       "      <td>1</td>\n",
       "      <td>0</td>\n",
       "      <td>2</td>\n",
       "    </tr>\n",
       "    <tr>\n",
       "      <th>1</th>\n",
       "      <td>1</td>\n",
       "      <td>1</td>\n",
       "      <td>Cumings, Mrs. John Bradley (Florence Briggs Th...</td>\n",
       "      <td>0</td>\n",
       "      <td>38.0</td>\n",
       "      <td>17599</td>\n",
       "      <td>38.0</td>\n",
       "      <td>0</td>\n",
       "      <td>1</td>\n",
       "      <td>1</td>\n",
       "      <td>3</td>\n",
       "    </tr>\n",
       "    <tr>\n",
       "      <th>2</th>\n",
       "      <td>1</td>\n",
       "      <td>3</td>\n",
       "      <td>Heikkinen, Miss. Laina</td>\n",
       "      <td>0</td>\n",
       "      <td>26.0</td>\n",
       "      <td>3101282</td>\n",
       "      <td>26.0</td>\n",
       "      <td>2</td>\n",
       "      <td>0</td>\n",
       "      <td>0</td>\n",
       "      <td>1</td>\n",
       "    </tr>\n",
       "    <tr>\n",
       "      <th>3</th>\n",
       "      <td>1</td>\n",
       "      <td>1</td>\n",
       "      <td>Futrelle, Mrs. Jacques Heath (Lily May Peel)</td>\n",
       "      <td>0</td>\n",
       "      <td>35.0</td>\n",
       "      <td>113803</td>\n",
       "      <td>35.0</td>\n",
       "      <td>2</td>\n",
       "      <td>1</td>\n",
       "      <td>1</td>\n",
       "      <td>3</td>\n",
       "    </tr>\n",
       "    <tr>\n",
       "      <th>4</th>\n",
       "      <td>0</td>\n",
       "      <td>3</td>\n",
       "      <td>Allen, Mr. William Henry</td>\n",
       "      <td>1</td>\n",
       "      <td>35.0</td>\n",
       "      <td>373450</td>\n",
       "      <td>35.0</td>\n",
       "      <td>2</td>\n",
       "      <td>0</td>\n",
       "      <td>0</td>\n",
       "      <td>2</td>\n",
       "    </tr>\n",
       "  </tbody>\n",
       "</table>\n",
       "</div>"
      ],
      "text/plain": [
       "   Survived  Pclass                                               Name  Sex  \\\n",
       "0         0       3                            Braund, Mr. Owen Harris    1   \n",
       "1         1       1  Cumings, Mrs. John Bradley (Florence Briggs Th...    0   \n",
       "2         1       3                             Heikkinen, Miss. Laina    0   \n",
       "3         1       1       Futrelle, Mrs. Jacques Heath (Lily May Peel)    0   \n",
       "4         0       3                           Allen, Mr. William Henry    1   \n",
       "\n",
       "    Age   Ticket  Fare  Embarked  Number_of_relatives  Has_cabin  title  \n",
       "0  22.0    21171  22.0         2                    1          0      2  \n",
       "1  38.0    17599  38.0         0                    1          1      3  \n",
       "2  26.0  3101282  26.0         2                    0          0      1  \n",
       "3  35.0   113803  35.0         2                    1          1      3  \n",
       "4  35.0   373450  35.0         2                    0          0      2  "
      ]
     },
     "execution_count": 20,
     "metadata": {},
     "output_type": "execute_result"
    }
   ],
   "source": [
    "df_train.head()"
   ]
  },
  {
   "cell_type": "code",
   "execution_count": 21,
   "metadata": {},
   "outputs": [],
   "source": [
    "for sample in [df_train,df_validation]:\n",
    "    sample.drop(\"Name\",axis=1,inplace=True)"
   ]
  },
  {
   "cell_type": "code",
   "execution_count": 22,
   "metadata": {},
   "outputs": [
    {
     "name": "stdout",
     "output_type": "stream",
     "text": [
      "Survived               False\n",
      "Pclass                 False\n",
      "Sex                    False\n",
      "Age                    False\n",
      "Ticket                 False\n",
      "Fare                   False\n",
      "Embarked               False\n",
      "Number_of_relatives    False\n",
      "Has_cabin              False\n",
      "title                  False\n",
      "dtype: bool\n",
      "---------\n",
      "Pclass                 False\n",
      "Sex                    False\n",
      "Age                    False\n",
      "Ticket                 False\n",
      "Fare                   False\n",
      "Embarked               False\n",
      "Number_of_relatives    False\n",
      "Has_cabin              False\n",
      "title                  False\n",
      "dtype: bool\n",
      "---------\n"
     ]
    }
   ],
   "source": [
    "for sample in [df_train,df_validation]:\n",
    "    print(sample.isnull().any())\n",
    "    print(\"---------\")"
   ]
  },
  {
   "cell_type": "code",
   "execution_count": 23,
   "metadata": {},
   "outputs": [],
   "source": [
    "y = df_train.Survived\n",
    "X = df_train.drop(\"Survived\",axis=1)\n",
    "X_train, X_test, y_train, y_test = train_test_split(X, y, test_size=0.2,random_state=1)"
   ]
  },
  {
   "cell_type": "code",
   "execution_count": 24,
   "metadata": {},
   "outputs": [
    {
     "name": "stderr",
     "output_type": "stream",
     "text": [
      "/home/daniilka/.local/lib/python3.7/site-packages/sklearn/ensemble/forest.py:245: FutureWarning: The default value of n_estimators will change from 10 in version 0.20 to 100 in 0.22.\n",
      "  \"10 in version 0.20 to 100 in 0.22.\", FutureWarning)\n"
     ]
    },
    {
     "data": {
      "text/plain": [
       "0.7988826815642458"
      ]
     },
     "execution_count": 24,
     "metadata": {},
     "output_type": "execute_result"
    }
   ],
   "source": [
    "\n",
    "rnd_frst = RandomForestClassifier()\n",
    "rnd_frst.fit(X_train, y_train)\n",
    "\n",
    "pred = rnd_frst.predict(X_test)\n",
    "accuracy_score(y_test, pred)"
   ]
  },
  {
   "cell_type": "code",
   "execution_count": 25,
   "metadata": {},
   "outputs": [],
   "source": [
    "parametrs = {\n",
    "    \"learning_rate\": [0.3, 0.05, 0.1, 0.4, 0.5, 0.6],\n",
    "    \"max_depth\": [2,3,5, 6, 7],\n",
    "    \"n_estimators\": [20, 30, 40, 50, 60, 70, 80]\n",
    "}      \n",
    "boost = xgb.XGBClassifier()"
   ]
  },
  {
   "cell_type": "code",
   "execution_count": 26,
   "metadata": {},
   "outputs": [
    {
     "data": {
      "text/plain": [
       "GridSearchCV(cv=3, error_score='raise-deprecating',\n",
       "             estimator=XGBClassifier(base_score=0.5, booster='gbtree',\n",
       "                                     colsample_bylevel=1, colsample_bynode=1,\n",
       "                                     colsample_bytree=1, gamma=0,\n",
       "                                     learning_rate=0.1, max_delta_step=0,\n",
       "                                     max_depth=3, min_child_weight=1,\n",
       "                                     missing=None, n_estimators=100, n_jobs=1,\n",
       "                                     nthread=None, objective='binary:logistic',\n",
       "                                     random_state=0, reg_alpha=0, reg_lambda=1,\n",
       "                                     scale_pos_weight=1, seed=None, silent=None,\n",
       "                                     subsample=1, verbosity=1),\n",
       "             iid='warn', n_jobs=-1,\n",
       "             param_grid={'learning_rate': [0.3, 0.05, 0.1, 0.4, 0.5, 0.6],\n",
       "                         'max_depth': [2, 3, 5, 6, 7],\n",
       "                         'n_estimators': [20, 30, 40, 50, 60, 70, 80]},\n",
       "             pre_dispatch='2*n_jobs', refit=True, return_train_score=False,\n",
       "             scoring=make_scorer(accuracy_score), verbose=0)"
      ]
     },
     "execution_count": 26,
     "metadata": {},
     "output_type": "execute_result"
    }
   ],
   "source": [
    "gs = GridSearchCV(boost,param_grid=parametrs,n_jobs=-1,scoring=make_scorer(accuracy_score),cv=3)\n",
    "gs.fit(X_train,y_train)"
   ]
  },
  {
   "cell_type": "code",
   "execution_count": 27,
   "metadata": {},
   "outputs": [
    {
     "data": {
      "text/plain": [
       "0.7988826815642458"
      ]
     },
     "execution_count": 27,
     "metadata": {},
     "output_type": "execute_result"
    }
   ],
   "source": [
    "\n",
    "pred = gs.predict(X_test)\n",
    "accuracy_score(y_test, pred)"
   ]
  },
  {
   "cell_type": "code",
   "execution_count": 28,
   "metadata": {},
   "outputs": [],
   "source": [
    "pred = gs.predict(df_validation)"
   ]
  },
  {
   "cell_type": "code",
   "execution_count": 29,
   "metadata": {},
   "outputs": [],
   "source": [
    "df = pd.DataFrame(pred)"
   ]
  },
  {
   "cell_type": "code",
   "execution_count": 30,
   "metadata": {},
   "outputs": [],
   "source": [
    "df.to_csv(\"result.csv\",index=True)"
   ]
  },
  {
   "cell_type": "code",
   "execution_count": null,
   "metadata": {},
   "outputs": [],
   "source": []
  }
 ],
 "metadata": {
  "kernelspec": {
   "display_name": "Python 3",
   "language": "python",
   "name": "python3"
  },
  "language_info": {
   "codemirror_mode": {
    "name": "ipython",
    "version": 3
   },
   "file_extension": ".py",
   "mimetype": "text/x-python",
   "name": "python",
   "nbconvert_exporter": "python",
   "pygments_lexer": "ipython3",
   "version": "3.7.3"
  }
 },
 "nbformat": 4,
 "nbformat_minor": 2
}
